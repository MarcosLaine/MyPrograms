{
 "cells": [
  {
   "cell_type": "markdown",
   "id": "7ae408ca",
   "metadata": {},
   "source": [
    "# Classificação de Imagens: Gatos vs. Cachorros com CNN"
   ]
  },
  {
   "cell_type": "markdown",
   "id": "a50e0798",
   "metadata": {},
   "source": [
    "## Introdução\n",
    "Neste notebook, construímos um classificador de imagens utilizando Redes Neurais Convolucionais (CNN) para distinguir entre gatos e cachorros. O projeto segue os seguintes passos:\n",
    "\n",
    "1. Preparação dos dados\n",
    "2. Construção do modelo CNN\n",
    "3. Avaliação do modelo\n",
    "4. Testes com imagens externas\n"
   ]
  },
  {
   "cell_type": "code",
   "execution_count": null,
   "id": "d3fd00ee",
   "metadata": {},
   "outputs": [],
   "source": [
    "import os\n",
    "import numpy as np\n",
    "import matplotlib.pyplot as plt\n",
    "import tensorflow as tf\n",
    "from tensorflow.keras.preprocessing.image import ImageDataGenerator\n",
    "from sklearn.metrics import classification_report, confusion_matrix\n"
   ]
  },
  {
   "cell_type": "markdown",
   "id": "5945c0d4",
   "metadata": {},
   "source": [
    "## 1. Preparação dos Dados"
   ]
  },
  {
   "cell_type": "code",
   "execution_count": null,
   "id": "8cf92a64",
   "metadata": {},
   "outputs": [],
   "source": [
    "# Diretórios\n",
    "base_dir = '/mnt/data/titanic_cnn_dogs_vs_cats/data'\n",
    "train_dir = os.path.join(base_dir, 'train')\n",
    "val_dir = os.path.join(base_dir, 'validation')\n",
    "test_dir = os.path.join(base_dir, 'test')\n",
    "\n",
    "# Geradores de dados\n",
    "train_datagen = ImageDataGenerator(\n",
    "    rescale=1./255,\n",
    "    rotation_range=40,\n",
    "    width_shift_range=0.2,\n",
    "    height_shift_range=0.2,\n",
    "    shear_range=0.2,\n",
    "    zoom_range=0.2,\n",
    "    horizontal_flip=True,\n",
    "    fill_mode='nearest'\n",
    ")\n",
    "\n",
    "val_test_datagen = ImageDataGenerator(rescale=1./255)\n",
    "\n",
    "train_generator = train_datagen.flow_from_directory(\n",
    "    train_dir,\n",
    "    target_size=(150, 150),\n",
    "    batch_size=20,\n",
    "    class_mode='binary'\n",
    ")\n",
    "\n",
    "validation_generator = val_test_datagen.flow_from_directory(\n",
    "    val_dir,\n",
    "    target_size=(150, 150),\n",
    "    batch_size=20,\n",
    "    class_mode='binary'\n",
    ")\n",
    "\n",
    "test_generator = val_test_datagen.flow_from_directory(\n",
    "    test_dir,\n",
    "    target_size=(150, 150),\n",
    "    batch_size=20,\n",
    "    class_mode='binary',\n",
    "    shuffle=False\n",
    ")\n"
   ]
  },
  {
   "cell_type": "markdown",
   "id": "acadbc61",
   "metadata": {},
   "source": [
    "## 2. Construção e Treinamento da CNN"
   ]
  },
  {
   "cell_type": "code",
   "execution_count": null,
   "id": "03a390af",
   "metadata": {},
   "outputs": [],
   "source": [
    "model = tf.keras.models.Sequential([\n",
    "    tf.keras.layers.Conv2D(32, (3,3), activation='relu', input_shape=(150, 150, 3)),\n",
    "    tf.keras.layers.MaxPooling2D(2, 2),\n",
    "    tf.keras.layers.Conv2D(64, (3,3), activation='relu'),\n",
    "    tf.keras.layers.MaxPooling2D(2,2),\n",
    "    tf.keras.layers.Conv2D(128, (3,3), activation='relu'),\n",
    "    tf.keras.layers.MaxPooling2D(2,2),\n",
    "    tf.keras.layers.Flatten(),\n",
    "    tf.keras.layers.Dense(512, activation='relu'),\n",
    "    tf.keras.layers.Dense(1, activation='sigmoid')\n",
    "])\n",
    "\n",
    "model.compile(loss='binary_crossentropy',\n",
    "              optimizer='adam',\n",
    "              metrics=['accuracy'])\n",
    "\n",
    "history = model.fit(\n",
    "    train_generator,\n",
    "    steps_per_epoch=100,\n",
    "    epochs=10,\n",
    "    validation_data=validation_generator,\n",
    "    validation_steps=50\n",
    ")\n"
   ]
  },
  {
   "cell_type": "markdown",
   "id": "d1517584",
   "metadata": {},
   "source": [
    "### Gráficos de Acurácia e Perda"
   ]
  },
  {
   "cell_type": "code",
   "execution_count": null,
   "id": "4594ac5e",
   "metadata": {},
   "outputs": [],
   "source": [
    "acc = history.history['accuracy']\n",
    "val_acc = history.history['val_accuracy']\n",
    "loss = history.history['loss']\n",
    "val_loss = history.history['val_loss']\n",
    "\n",
    "epochs = range(len(acc))\n",
    "\n",
    "plt.figure()\n",
    "plt.plot(epochs, acc, 'b', label='Acurácia de treino')\n",
    "plt.plot(epochs, val_acc, 'r', label='Acurácia de validação')\n",
    "plt.title('Acurácia por época')\n",
    "plt.legend()\n",
    "\n",
    "plt.figure()\n",
    "plt.plot(epochs, loss, 'b', label='Perda de treino')\n",
    "plt.plot(epochs, val_loss, 'r', label='Perda de validação')\n",
    "plt.title('Perda por época')\n",
    "plt.legend()\n",
    "\n",
    "plt.show()\n"
   ]
  },
  {
   "cell_type": "markdown",
   "id": "eef88c1f",
   "metadata": {},
   "source": [
    "## 3. Avaliação do Modelo"
   ]
  },
  {
   "cell_type": "code",
   "execution_count": null,
   "id": "9f8e9a15",
   "metadata": {},
   "outputs": [],
   "source": [
    "# Avaliação final\n",
    "Y_pred = (model.predict(test_generator) > 0.5).astype(int)\n",
    "Y_true = test_generator.classes\n",
    "\n",
    "print(classification_report(Y_true, Y_pred, target_names=[\"Cat\", \"Dog\"]))\n"
   ]
  },
  {
   "cell_type": "markdown",
   "id": "a1805b57",
   "metadata": {},
   "source": [
    "## 4. Testes com Imagens Novas"
   ]
  },
  {
   "cell_type": "code",
   "execution_count": null,
   "id": "abeda5b0",
   "metadata": {},
   "outputs": [],
   "source": [
    "from tensorflow.keras.utils import load_img, img_to_array\n",
    "\n",
    "def predict_image(image_path):\n",
    "    img = load_img(image_path, target_size=(150, 150))\n",
    "    img_tensor = img_to_array(img)/255.0\n",
    "    img_tensor = np.expand_dims(img_tensor, axis=0)\n",
    "    prediction = model.predict(img_tensor)\n",
    "    plt.imshow(img)\n",
    "    plt.axis('off')\n",
    "    plt.title(\"Predicted: \" + (\"Dog\" if prediction > 0.5 else \"Cat\"))\n",
    "    plt.show()\n",
    "\n",
    "# Exemplo:\n",
    "# predict_image(\"/mnt/data/titanic_cnn_dogs_vs_cats/images/exemplo.jpg\")\n"
   ]
  },
  {
   "cell_type": "markdown",
   "id": "44584221",
   "metadata": {},
   "source": [
    "## Conclusão\n",
    "O modelo treinado demonstrou bom desempenho na distinção entre cães e gatos, com resultados visuais coerentes. A seguir será elaborado o relatório final baseado nesse notebook."
   ]
  }
 ],
 "metadata": {
  "language_info": {
   "name": "python"
  }
 },
 "nbformat": 4,
 "nbformat_minor": 5
}
