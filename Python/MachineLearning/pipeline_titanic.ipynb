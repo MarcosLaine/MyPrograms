{
 "cells": [
  {
   "cell_type": "markdown",
   "id": "5591a442",
   "metadata": {},
   "source": [
    "# =============================================================================\n",
    "# ANÁLISE PREDITIVA DO TITANIC - PIPELINE COMPLETO\n",
    "# Este script implementa uma análise completa dos dados do Titanic, incluindo:\n",
    "# - Pré-processamento e engenharia de features\n",
    "# - Classificação supervisionada (Random Forest e Decision Tree)\n",
    "# - Clusterização (KMeans)\n",
    "# - Análise de regras de associação\n",
    "# =============================================================================\n",
    "\n",
    "# 1. IMPORTAÇÕES E CARREGAMENTO\n",
    "# Bibliotecas para manipulação de dados e visualização"
   ]
  },
  {
   "cell_type": "code",
   "execution_count": null,
   "id": "dc95393d",
   "metadata": {},
   "outputs": [],
   "source": [
    "# =============================================================================\n",
    "# ANÁLISE PREDITIVA DO TITANIC - PIPELINE COMPLETO\n",
    "# Este script implementa uma análise completa dos dados do Titanic, incluindo:\n",
    "# - Pré-processamento e engenharia de features\n",
    "# - Classificação supervisionada (Random Forest e Decision Tree)\n",
    "# - Clusterização (KMeans)\n",
    "# - Análise de regras de associação\n",
    "# =============================================================================\n",
    "\n",
    "# 1. IMPORTAÇÕES E CARREGAMENTO\n",
    "# Bibliotecas para manipulação de dados e visualização\n",
    "import pandas as pd\n",
    "import numpy as np\n",
    "import matplotlib.pyplot as plt\n",
    "import seaborn as sns\n",
    "\n",
    "# Bibliotecas para machine learning\n",
    "from sklearn.model_selection import train_test_split\n",
    "from sklearn.preprocessing import StandardScaler, LabelEncoder, OneHotEncoder\n",
    "from sklearn.ensemble import RandomForestClassifier\n",
    "from sklearn.tree import DecisionTreeClassifier\n",
    "from sklearn.metrics import classification_report\n",
    "from sklearn.cluster import KMeans\n",
    "from sklearn.decomposition import PCA\n",
    "from mlxtend.frequent_patterns import apriori, association_rules\n",
    "from mlxtend.preprocessing import TransactionEncoder\n",
    "\n",
    "# 1.1 Carregamento dos dados\n",
    "# Carrega os datasets de treino e teste\n",
    "train = pd.read_csv(\"train.csv\")\n",
    "test = pd.read_csv(\"test.csv\")"
   ]
  },
  {
   "cell_type": "markdown",
   "id": "2c259649",
   "metadata": {},
   "source": [
    "## 2. ANÁLISE E PRÉ-PROCESSAMENTO"
   ]
  },
  {
   "cell_type": "code",
   "execution_count": null,
   "id": "20e6f51e",
   "metadata": {},
   "outputs": [],
   "source": [
    "2. ANÁLISE E PRÉ-PROCESSAMENTO"
   ]
  },
  {
   "cell_type": "markdown",
   "id": "fe636e37",
   "metadata": {},
   "source": [
    "## 2. ANÁLISE E PRÉ-PROCESSAMENTO"
   ]
  },
  {
   "cell_type": "code",
   "execution_count": null,
   "id": "82368ae8",
   "metadata": {},
   "outputs": [],
   "source": [
    "# 2.1 Engenharia de Features\n",
    "# Extrai o título do nome do passageiro (Mr., Mrs., etc)\n",
    "train['Title'] = train['Name'].str.extract(' ([A-Za-z]+)\\.', expand=False)\n",
    "# Calcula o tamanho da família (incluindo o próprio passageiro)\n",
    "train['FamilySize'] = train['SibSp'] + train['Parch'] + 1\n",
    "# Cria uma feature binária indicando se o passageiro está sozinho\n",
    "train['IsAlone'] = (train['FamilySize'] == 1).astype(int)\n",
    "\n",
    "# 2.2 Tratamento de Valores Nulos\n",
    "# Preenche valores nulos com estatísticas apropriadas\n",
    "train['Age'].fillna(train['Age'].median(), inplace=True)  # Idade com mediana\n",
    "train['Embarked'].fillna(train['Embarked'].mode()[0], inplace=True)  # Porto com moda\n",
    "train['Fare'].fillna(train['Fare'].median(), inplace=True)  # Tarifa com mediana\n",
    "\n",
    "# 2.3 Codificação de Variáveis Categóricas\n",
    "# Converte variáveis categóricas em numéricas usando Label Encoding\n",
    "label = LabelEncoder()\n",
    "train['Sex'] = label.fit_transform(train['Sex'])\n",
    "train['Embarked'] = label.fit_transform(train['Embarked'])\n",
    "train['Title'] = label.fit_transform(train['Title'])\n",
    "\n",
    "# 2.4 Seleção e Preparação das Features\n",
    "# Define as features que serão utilizadas no modelo\n",
    "features = ['Pclass', 'Sex', 'Age', 'Fare', 'Embarked', 'FamilySize', 'IsAlone', 'Title']\n",
    "X = train[features]\n",
    "y = train['Survived']\n",
    "\n",
    "# 2.5 Padronização dos Dados\n",
    "# Normaliza as features para terem média 0 e desvio padrão 1\n",
    "scaler = StandardScaler()\n",
    "X_scaled = scaler.fit_transform(X)"
   ]
  },
  {
   "cell_type": "markdown",
   "id": "10ad64aa",
   "metadata": {},
   "source": [
    "## 2. ANÁLISE E PRÉ-PROCESSAMENTO"
   ]
  },
  {
   "cell_type": "code",
   "execution_count": null,
   "id": "35412580",
   "metadata": {},
   "outputs": [],
   "source": [
    "3. CLASSIFICAÇÃO SUPERVISIONADA"
   ]
  },
  {
   "cell_type": "markdown",
   "id": "ff9541a5",
   "metadata": {},
   "source": [
    "## 2. ANÁLISE E PRÉ-PROCESSAMENTO"
   ]
  },
  {
   "cell_type": "code",
   "execution_count": null,
   "id": "305f95c1",
   "metadata": {},
   "outputs": [],
   "source": [
    "# 3.1 Divisão dos Dados\n",
    "# Separa os dados em conjuntos de treino e validação\n",
    "X_train, X_val, y_train, y_val = train_test_split(X_scaled, y, test_size=0.2, random_state=42)\n",
    "\n",
    "# 3.2 Treinamento e Avaliação dos Modelos\n",
    "# Random Forest Classifier\n",
    "rf = RandomForestClassifier()\n",
    "rf.fit(X_train, y_train)\n",
    "y_pred_rf = rf.predict(X_val)\n",
    "\n",
    "# Decision Tree Classifier\n",
    "dt = DecisionTreeClassifier()\n",
    "dt.fit(X_train, y_train)\n",
    "y_pred_dt = dt.predict(X_val)\n",
    "\n",
    "# 3.3 Avaliação dos Resultados\n",
    "print(\"Random Forest:\\n\", classification_report(y_val, y_pred_rf))\n",
    "print(\"Decision Tree:\\n\", classification_report(y_val, y_pred_dt))"
   ]
  },
  {
   "cell_type": "markdown",
   "id": "6000c6ba",
   "metadata": {},
   "source": [
    "## 2. ANÁLISE E PRÉ-PROCESSAMENTO"
   ]
  },
  {
   "cell_type": "code",
   "execution_count": null,
   "id": "f74e09f1",
   "metadata": {},
   "outputs": [],
   "source": [
    "4. CLUSTERIZAÇÃO"
   ]
  },
  {
   "cell_type": "markdown",
   "id": "30e24893",
   "metadata": {},
   "source": [
    "## 2. ANÁLISE E PRÉ-PROCESSAMENTO"
   ]
  },
  {
   "cell_type": "code",
   "execution_count": null,
   "id": "46369ce0",
   "metadata": {},
   "outputs": [],
   "source": [
    "# 4.1 Aplicação do KMeans\n",
    "# Agrupa os passageiros em 3 clusters\n",
    "kmeans = KMeans(n_clusters=3, random_state=0)\n",
    "kmeans.fit(X_scaled)\n",
    "clusters = kmeans.labels_\n",
    "\n",
    "# 4.2 Redução de Dimensionalidade com PCA\n",
    "# Reduz as features para 2 dimensões para visualização\n",
    "pca = PCA(n_components=2)\n",
    "pca_data = pca.fit_transform(X_scaled)\n",
    "\n",
    "# 4.3 Visualização dos Clusters\n",
    "plt.figure(figsize=(8,6))\n",
    "plt.scatter(pca_data[:,0], pca_data[:,1], c=clusters, cmap='viridis')\n",
    "plt.title('Clusters de Passageiros (KMeans + PCA)')\n",
    "plt.xlabel('PC1')\n",
    "plt.ylabel('PC2')\n",
    "plt.show()"
   ]
  },
  {
   "cell_type": "markdown",
   "id": "190707f9",
   "metadata": {},
   "source": [
    "## 2. ANÁLISE E PRÉ-PROCESSAMENTO"
   ]
  },
  {
   "cell_type": "code",
   "execution_count": null,
   "id": "01f0bc01",
   "metadata": {},
   "outputs": [],
   "source": [
    "5. REGRAS DE ASSOCIAÇÃO"
   ]
  },
  {
   "cell_type": "markdown",
   "id": "e7e5aa9c",
   "metadata": {},
   "source": [
    "## 2. ANÁLISE E PRÉ-PROCESSAMENTO"
   ]
  },
  {
   "cell_type": "code",
   "execution_count": null,
   "id": "aab7a4e8",
   "metadata": {},
   "outputs": [],
   "source": [
    "# 5.1 Preparação dos Dados\n",
    "# Seleciona e prepara as features para análise de associação\n",
    "assoc_data = train[['Sex', 'Pclass', 'Embarked', 'Survived']].copy()\n",
    "assoc_data['Sex'] = assoc_data['Sex'].map({1: 'male', 0: 'female'})\n",
    "assoc_data['Survived'] = assoc_data['Survived'].map({1: 'survived', 0: 'died'})\n",
    "\n",
    "# 5.2 Aplicação do Algoritmo Apriori\n",
    "# Converte os dados para o formato necessário\n",
    "records = assoc_data.astype(str).values.tolist()\n",
    "te = TransactionEncoder()\n",
    "te_ary = te.fit(records).transform(records)\n",
    "df_assoc = pd.DataFrame(te_ary, columns=te.columns_)\n",
    "\n",
    "# 5.3 Geração e Visualização das Regras\n",
    "# Encontra padrões frequentes e gera regras de associação\n",
    "frequent = apriori(df_assoc, min_support=0.1, use_colnames=True)\n",
    "rules = association_rules(frequent, metric=\"lift\", min_threshold=1.0)\n",
    "\n",
    "# Exibe as 3 regras mais relevantes\n",
    "print(rules[['antecedents','consequents','support','confidence','lift']].head(3))"
   ]
  }
 ],
 "metadata": {
  "language_info": {
   "name": "python"
  }
 },
 "nbformat": 4,
 "nbformat_minor": 5
}
